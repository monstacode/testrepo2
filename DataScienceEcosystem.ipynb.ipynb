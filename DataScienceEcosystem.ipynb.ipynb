{
 "cells": [
  {
   "cell_type": "markdown",
   "id": "a35678c1-081f-46b6-8ed4-7a5ce1ff8dae",
   "metadata": {},
   "source": [
    "# Data Science Tools and Ecosystem"
   ]
  },
  {
   "cell_type": "markdown",
   "id": "3fb3c321-74bf-4c3f-ae13-48d76e44acc4",
   "metadata": {},
   "source": [
    "In this notebook, Data Science Tools and Ecosystem are summarized."
   ]
  },
  {
   "cell_type": "markdown",
   "id": "3907eed7-aa32-4119-a8f1-06131d4c0958",
   "metadata": {},
   "source": [
    "**Objectives:**\n",
    "\n",
    "- List popular languages for Data Science\n",
    "- List commonly used libraries for Data Science\n",
    "- Examples of evaluating arithmetic expressions"
   ]
  },
  {
   "cell_type": "markdown",
   "id": "64549479-8088-4ac0-98f6-19976d5636a5",
   "metadata": {},
   "source": [
    "Some of the popular languages that Data Scientists use are:\n",
    "\n",
    "1. Python\n",
    "2. R\n",
    "3. SQL"
   ]
  },
  {
   "cell_type": "markdown",
   "id": "7dcddbb8-0956-44b5-be80-d27b6a12a5da",
   "metadata": {},
   "source": [
    "Some of the commonly used libraries used by Data Scientists include:\n",
    "\n",
    "1. pandas\n",
    "2. matplotlib\n",
    "3. scikit-learn"
   ]
  },
  {
   "cell_type": "markdown",
   "id": "d65911e6-f2a3-47d1-a529-f5a440b3f41f",
   "metadata": {},
   "source": [
    "| Data Science Tools |\n",
    "|--------|\n",
    "| RStudio |\n",
    "| Jupyter Notebook |\n",
    "| Apache Spark |\n"
   ]
  },
  {
   "cell_type": "markdown",
   "id": "715a5418-36d7-4731-ab5b-fcd7fa01e672",
   "metadata": {},
   "source": [
    "### Below are a few examples of evaluating arithmetic expressions in Python"
   ]
  },
  {
   "cell_type": "code",
   "execution_count": 1,
   "id": "2e249f5d-83bf-4107-9cbd-804813d05682",
   "metadata": {
    "tags": []
   },
   "outputs": [
    {
     "data": {
      "text/plain": [
       "17"
      ]
     },
     "execution_count": 1,
     "metadata": {},
     "output_type": "execute_result"
    }
   ],
   "source": [
    "#  This a simple arithmetic expression to mutiply then add integers\n",
    "\n",
    "(3*4)+5"
   ]
  },
  {
   "cell_type": "code",
   "execution_count": 4,
   "id": "e3de1563-55d7-461c-9910-1db0b4988a97",
   "metadata": {
    "tags": []
   },
   "outputs": [
    {
     "name": "stdout",
     "output_type": "stream",
     "text": [
      "200 minutes =\n",
      "3.3333333333333335 Hours\n"
     ]
    }
   ],
   "source": [
    "# This will convert 200 minutes to hours by diving by 60\n",
    "\n",
    "m = 200\n",
    "h = 60\n",
    "\n",
    "print(f'{m} minutes =')\n",
    "print(f'{m/h} Hours')\n"
   ]
  },
  {
   "cell_type": "markdown",
   "id": "137057b9-8256-43a1-a49d-9b71526d0b3a",
   "metadata": {},
   "source": [
    "## Author\n",
    "Mr. Coder"
   ]
  },
  {
   "cell_type": "code",
   "execution_count": null,
   "id": "7ee88b64-608a-4ff0-8c8d-880290362deb",
   "metadata": {},
   "outputs": [],
   "source": []
  }
 ],
 "metadata": {
  "kernelspec": {
   "display_name": "Python",
   "language": "python",
   "name": "conda-env-python-py"
  },
  "language_info": {
   "codemirror_mode": {
    "name": "ipython",
    "version": 3
   },
   "file_extension": ".py",
   "mimetype": "text/x-python",
   "name": "python",
   "nbconvert_exporter": "python",
   "pygments_lexer": "ipython3",
   "version": "3.7.12"
  }
 },
 "nbformat": 4,
 "nbformat_minor": 5
}
